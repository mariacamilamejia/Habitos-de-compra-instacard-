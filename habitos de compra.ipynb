{
 "cells": [
  {
   "cell_type": "markdown",
   "id": "3Xg_RQfnafXz",
   "metadata": {
    "id": "3Xg_RQfnafXz"
   },
   "source": [
    "# ¡Llena ese carrito!"
   ]
  },
  {
   "cell_type": "markdown",
   "id": "mhIvmmkW414q",
   "metadata": {
    "id": "mhIvmmkW414q"
   },
   "source": [
    "# Introducción\n",
    "\n",
    "Instacart es una plataforma de entregas de comestibles donde la clientela puede registrar un pedido y hacer que se lo entreguen, similar a Uber Eats y Door Dash.\n",
    "\n"
   ]
  },
  {
   "cell_type": "markdown",
   "id": "3MbyzpOQZ5Or",
   "metadata": {
    "id": "3MbyzpOQZ5Or"
   },
   "source": [
    "## Diccionario de datos\n",
    "\n",
    "Hay cinco tablas en el conjunto de datos\n",
    "  "
   ]
  },
  {
   "cell_type": "markdown",
   "id": "71f038ed",
   "metadata": {
    "id": "n3Ha_cNSZ8lK"
   },
   "source": [
    "# Paso 1. Descripción de los datos\n",
    "\n",
    "\n"
   ]
  },
  {
   "cell_type": "markdown",
   "id": "OmlQPLlyaAfR",
   "metadata": {
    "id": "OmlQPLlyaAfR"
   },
   "source": [
    "## Plan de solución\n",
    "\n"
   ]
  },
  {
   "cell_type": "markdown",
   "id": "bb7d7300",
   "metadata": {},
   "source": [
    "Comentario: Se muestra la informacion suministrada verificando las columnas de cada uno de los datase, revisando su contenido, para luego saber que bibliotecas de Phyton se debian llamar."
   ]
  },
  {
   "cell_type": "code",
   "execution_count": null,
   "id": "fbf1adab",
   "metadata": {
    "id": "fbf1adab"
   },
   "outputs": [],
   "source": [
    "import pandas as pd \n",
    "from matplotlib import pyplot as plt\n",
    "\n",
    "\n"
   ]
  },
  {
   "cell_type": "code",
   "execution_count": null,
   "id": "ad36396d",
   "metadata": {
    "id": "ad36396d"
   },
   "outputs": [],
   "source": [
    "data_instacart = pd.read_csv('/datasets/instacart_orders.csv',sep=';')\n",
    "data_products = pd.read_csv('/datasets/products.csv',sep=';')\n",
    "data_aisles = pd.read_csv('/datasets/aisles.csv',sep=';')\n",
    "data_department= pd.read_csv('/datasets/departments.csv',sep=';')\n",
    "data_order_products= pd.read_csv('/datasets/order_products.csv',sep=';')"
   ]
  },
  {
   "cell_type": "code",
   "execution_count": null,
   "id": "ad6a1efa",
   "metadata": {
    "id": "ad6a1efa",
    "scrolled": true
   },
   "outputs": [
    {
     "name": "stdout",
     "output_type": "stream",
     "text": [
      "<class 'pandas.core.frame.DataFrame'>\n",
      "RangeIndex: 478967 entries, 0 to 478966\n",
      "Data columns (total 6 columns):\n",
      " #   Column                  Non-Null Count   Dtype  \n",
      "---  ------                  --------------   -----  \n",
      " 0   order_id                478967 non-null  int64  \n",
      " 1   user_id                 478967 non-null  int64  \n",
      " 2   order_number            478967 non-null  int64  \n",
      " 3   order_dow               478967 non-null  int64  \n",
      " 4   order_hour_of_day       478967 non-null  int64  \n",
      " 5   days_since_prior_order  450148 non-null  float64\n",
      "dtypes: float64(1), int64(5)\n",
      "memory usage: 21.9 MB\n",
      "None\n"
     ]
    }
   ],
   "source": [
    "print(data_instacart.info(show_counts=True))"
   ]
  },
  {
   "cell_type": "code",
   "execution_count": null,
   "id": "5130e05e",
   "metadata": {
    "id": "5130e05e"
   },
   "outputs": [
    {
     "name": "stdout",
     "output_type": "stream",
     "text": [
      "<class 'pandas.core.frame.DataFrame'>\n",
      "RangeIndex: 49694 entries, 0 to 49693\n",
      "Data columns (total 4 columns):\n",
      " #   Column         Non-Null Count  Dtype \n",
      "---  ------         --------------  ----- \n",
      " 0   product_id     49694 non-null  int64 \n",
      " 1   product_name   48436 non-null  object\n",
      " 2   aisle_id       49694 non-null  int64 \n",
      " 3   department_id  49694 non-null  int64 \n",
      "dtypes: int64(3), object(1)\n",
      "memory usage: 1.5+ MB\n",
      "None\n"
     ]
    }
   ],
   "source": [
    "print(data_products.info(show_counts=True))\n"
   ]
  },
  {
   "cell_type": "code",
   "execution_count": null,
   "id": "d8370c05",
   "metadata": {
    "id": "d8370c05"
   },
   "outputs": [
    {
     "name": "stdout",
     "output_type": "stream",
     "text": [
      "<class 'pandas.core.frame.DataFrame'>\n",
      "RangeIndex: 134 entries, 0 to 133\n",
      "Data columns (total 2 columns):\n",
      " #   Column    Non-Null Count  Dtype \n",
      "---  ------    --------------  ----- \n",
      " 0   aisle_id  134 non-null    int64 \n",
      " 1   aisle     134 non-null    object\n",
      "dtypes: int64(1), object(1)\n",
      "memory usage: 2.2+ KB\n",
      "None\n"
     ]
    }
   ],
   "source": [
    "print(data_aisles.info(show_counts=True))\n",
    "# mostrar información del DataFrame"
   ]
  },
  {
   "cell_type": "code",
   "execution_count": null,
   "id": "59e2090f",
   "metadata": {
    "id": "59e2090f"
   },
   "outputs": [
    {
     "name": "stdout",
     "output_type": "stream",
     "text": [
      "<class 'pandas.core.frame.DataFrame'>\n",
      "RangeIndex: 21 entries, 0 to 20\n",
      "Data columns (total 2 columns):\n",
      " #   Column         Non-Null Count  Dtype \n",
      "---  ------         --------------  ----- \n",
      " 0   department_id  21 non-null     int64 \n",
      " 1   department     21 non-null     object\n",
      "dtypes: int64(1), object(1)\n",
      "memory usage: 464.0+ bytes\n",
      "None\n"
     ]
    }
   ],
   "source": [
    "print(data_department.info(show_counts=True))\n"
   ]
  },
  {
   "cell_type": "code",
   "execution_count": null,
   "id": "6fc81694",
   "metadata": {
    "id": "6fc81694"
   },
   "outputs": [
    {
     "name": "stdout",
     "output_type": "stream",
     "text": [
      "<class 'pandas.core.frame.DataFrame'>\n",
      "RangeIndex: 4545007 entries, 0 to 4545006\n",
      "Data columns (total 4 columns):\n",
      " #   Column             Non-Null Count    Dtype  \n",
      "---  ------             --------------    -----  \n",
      " 0   order_id           4545007 non-null  int64  \n",
      " 1   product_id         4545007 non-null  int64  \n",
      " 2   add_to_cart_order  4544171 non-null  float64\n",
      " 3   reordered          4545007 non-null  int64  \n",
      "dtypes: float64(1), int64(3)\n",
      "memory usage: 138.7 MB\n",
      "None\n"
     ]
    }
   ],
   "source": [
    "print(data_order_products.info(show_counts=True))"
   ]
  },
  {
   "cell_type": "markdown",
   "id": "t75BD19oaR5f",
   "metadata": {
    "id": "t75BD19oaR5f"
   },
   "source": [
    "## Conclusiones\n",
    "\n",
    "Conclusiones intermedias "
   ]
  },
  {
   "cell_type": "markdown",
   "id": "794a73b8",
   "metadata": {},
   "source": [
    "Comentario: Como principal objetivo para garantizar que la data con la que se trabaja sea realmente adecuada y no tenga algun sesgo,se procede a verificar la informacion de los datset como valores ausentes, tipo de datos y duplicados como primera medida pues estos errores no permiten el analisis de los datos."
   ]
  },
  {
   "cell_type": "markdown",
   "id": "8RJHqxVmaVsF",
   "metadata": {
    "id": "8RJHqxVmaVsF"
   },
   "source": [
    "# Paso 2. Preprocesamiento de los datos\n",
    "\n"
   ]
  },
  {
   "cell_type": "markdown",
   "id": "7a2048f8",
   "metadata": {},
   "source": [
    "Comentario: Lo primero que haremos es revisar el tipo de los datos con los que se cuenta verificando que sea el correcto o adecuado para la informacion que se maneja, ademas se revisaran los dataset para validar si tienen valores ausentes para proceder completandolos y por ultimo se revisaran y eliminar los datos se encuentran duplicados en cada uno de los dataset procesados con las bibliotecas de Phyton garantizando que la informacion se encuentre depurada para un analisis efectivo."
   ]
  },
  {
   "cell_type": "markdown",
   "id": "07357848-dc64-4156-9cc3-01ff4365226d",
   "metadata": {
    "id": "07357848-dc64-4156-9cc3-01ff4365226d"
   },
   "source": [
    "## Encuentrar y eliminar los valores duplicados "
   ]
  },
  {
   "cell_type": "markdown",
   "id": "f179f0a9",
   "metadata": {
    "id": "f179f0a9"
   },
   "source": [
    "### `orders` data frame"
   ]
  },
  {
   "cell_type": "code",
   "execution_count": null,
   "id": "b99297a5-405a-463d-8535-9adc3da4ad74",
   "metadata": {
    "id": "b99297a5-405a-463d-8535-9adc3da4ad74"
   },
   "outputs": [
    {
     "name": "stdout",
     "output_type": "stream",
     "text": [
      "        order_id  user_id  order_number  order_dow  order_hour_of_day  \\\n",
      "145574    794638    50898            24          3                  2   \n",
      "223105   2160484   107525            16          3                  2   \n",
      "230807   1918001   188546            14          3                  2   \n",
      "266232   1782114   106752             1          3                  2   \n",
      "273805   1112182   202304            84          3                  2   \n",
      "284038   2845099    31189            11          3                  2   \n",
      "311713   1021560    53767             3          3                  2   \n",
      "321100    408114    68324             4          3                  2   \n",
      "323900   1919531   191501            32          3                  2   \n",
      "345917   2232988    82565             1          3                  2   \n",
      "371905    391768    57671            19          3                  2   \n",
      "394347    467134    63189            21          3                  2   \n",
      "411408   1286742   183220            48          3                  2   \n",
      "415163   2282673    86751            49          3                  2   \n",
      "441599   2125197    14050            48          3                  2   \n",
      "\n",
      "        days_since_prior_order  \n",
      "145574                     2.0  \n",
      "223105                    30.0  \n",
      "230807                    16.0  \n",
      "266232                     NaN  \n",
      "273805                     6.0  \n",
      "284038                     7.0  \n",
      "311713                     9.0  \n",
      "321100                    18.0  \n",
      "323900                     7.0  \n",
      "345917                     NaN  \n",
      "371905                    10.0  \n",
      "394347                     2.0  \n",
      "411408                     4.0  \n",
      "415163                     2.0  \n",
      "441599                     3.0  \n"
     ]
    }
   ],
   "source": [
    "\n",
    "print(data_instacart[data_instacart.duplicated()])\n",
    "\n",
    "\n"
   ]
  },
  {
   "cell_type": "code",
   "execution_count": null,
   "id": "0d44de5d",
   "metadata": {
    "id": "0d44de5d"
   },
   "outputs": [
    {
     "name": "stdout",
     "output_type": "stream",
     "text": [
      "order_id  order_id\n",
      "191       191         1\n",
      "222962    222962      1\n",
      "238782    238782      1\n",
      "248760    248760      1\n",
      "264348    264348      1\n",
      "272079    272079      1\n",
      "284770    284770      1\n",
      "332561    332561      1\n",
      "350018    350018      1\n",
      "353088    353088      1\n",
      "382357    382357      1\n",
      "391768    391768      2\n",
      "401662    401662      1\n",
      "404972    404972      1\n",
      "408114    408114      2\n",
      "449909    449909      1\n",
      "467134    467134      2\n",
      "494201    494201      1\n",
      "508008    508008      1\n",
      "522496    522496      1\n",
      "553049    553049      1\n",
      "577527    577527      1\n",
      "592699    592699      1\n",
      "593561    593561      1\n",
      "596062    596062      1\n",
      "632042    632042      1\n",
      "690242    690242      1\n",
      "736983    736983      1\n",
      "738145    738145      1\n",
      "774488    774488      1\n",
      "Name: order_id, dtype: int64\n"
     ]
    }
   ],
   "source": [
    "\n",
    "new_result=data_instacart.query(\"order_dow ==3 and order_hour_of_day== 2\")\n",
    "print(new_result.groupby(['order_id'])['order_id'].value_counts().head(30))# Verifica todos los pedidos que se hicieron el miércoles a las 2:00 a.m.\n"
   ]
  },
  {
   "cell_type": "code",
   "execution_count": null,
   "id": "480563c7",
   "metadata": {
    "id": "480563c7"
   },
   "outputs": [],
   "source": [
    "data_instacart=(data_instacart.drop_duplicates(subset='order_id').reset_index(drop=True)) "
   ]
  },
  {
   "cell_type": "code",
   "execution_count": null,
   "id": "0b2396a2",
   "metadata": {
    "id": "0b2396a2"
   },
   "outputs": [
    {
     "name": "stdout",
     "output_type": "stream",
     "text": [
      "0\n"
     ]
    }
   ],
   "source": [
    "print(data_instacart.duplicated().sum())"
   ]
  },
  {
   "cell_type": "code",
   "execution_count": null,
   "id": "f6113ef1",
   "metadata": {
    "id": "f6113ef1"
   },
   "outputs": [
    {
     "name": "stdout",
     "output_type": "stream",
     "text": [
      "Empty DataFrame\n",
      "Columns: [order_id, user_id, order_number, order_dow, order_hour_of_day, days_since_prior_order]\n",
      "Index: []\n"
     ]
    }
   ],
   "source": [
    "\n",
    "print(data_instacart[data_instacart['order_id'].duplicated()])"
   ]
  },
  {
   "cell_type": "markdown",
   "id": "93529bcf",
   "metadata": {},
   "source": [
    "Comentario: Con la ayuda de la funcion duplicated se identificaron que habian ordenes duplicadas en una franja horaria y dia en especifico, por lo cual se procedio a eliminar los duplicados, a traves de reset_index renombrando los indices."
   ]
  },
  {
   "cell_type": "markdown",
   "id": "45e6bc46",
   "metadata": {
    "id": "45e6bc46"
   },
   "source": [
    "### `products` data frame"
   ]
  },
  {
   "cell_type": "code",
   "execution_count": null,
   "id": "5f526b5b-8175-46fa-a0fd-441767d50e64",
   "metadata": {
    "id": "5f526b5b-8175-46fa-a0fd-441767d50e64"
   },
   "outputs": [
    {
     "name": "stdout",
     "output_type": "stream",
     "text": [
      "0\n"
     ]
    }
   ],
   "source": [
    "print(data_products.duplicated().sum())"
   ]
  },
  {
   "cell_type": "code",
   "execution_count": null,
   "id": "88daa4f4",
   "metadata": {
    "id": "88daa4f4"
   },
   "outputs": [
    {
     "name": "stdout",
     "output_type": "stream",
     "text": [
      "49673\n"
     ]
    }
   ],
   "source": [
    "print(data_products['department_id'].duplicated().sum())"
   ]
  },
  {
   "cell_type": "code",
   "execution_count": null,
   "id": "c773f0bf",
   "metadata": {
    "id": "c773f0bf"
   },
   "outputs": [
    {
     "name": "stdout",
     "output_type": "stream",
     "text": [
      "1361\n"
     ]
    }
   ],
   "source": [
    "data_products['product_name']=(data_products['product_name'].str.upper())\n",
    "print(data_products['product_name'].duplicated().sum())"
   ]
  },
  {
   "cell_type": "code",
   "execution_count": null,
   "id": "01efd02e",
   "metadata": {
    "id": "01efd02e"
   },
   "outputs": [
    {
     "name": "stdout",
     "output_type": "stream",
     "text": [
      "0\n"
     ]
    }
   ],
   "source": [
    "print(data_order_products.duplicated().sum())"
   ]
  },
  {
   "cell_type": "markdown",
   "id": "60f30db1",
   "metadata": {
    "id": "60f30db1"
   },
   "source": [
    "### `departments` data frame"
   ]
  },
  {
   "cell_type": "code",
   "execution_count": null,
   "id": "fb410ad4-0fbf-4b80-bb09-23fdea79afe3",
   "metadata": {
    "id": "fb410ad4-0fbf-4b80-bb09-23fdea79afe3"
   },
   "outputs": [
    {
     "name": "stdout",
     "output_type": "stream",
     "text": [
      "0\n"
     ]
    }
   ],
   "source": [
    "\n",
    "print(data_department.duplicated().sum())\n"
   ]
  },
  {
   "cell_type": "code",
   "execution_count": null,
   "id": "332b12bb",
   "metadata": {
    "id": "332b12bb"
   },
   "outputs": [
    {
     "name": "stdout",
     "output_type": "stream",
     "text": [
      "0\n"
     ]
    }
   ],
   "source": [
    "print(data_department['department_id'].duplicated().sum())"
   ]
  },
  {
   "cell_type": "markdown",
   "id": "24aa1a28",
   "metadata": {},
   "source": [
    "Comentario: Con ayuda de la funcion duplicated se identifico que no se encontraron filas duplicadas ni IDs de productos para este dataset."
   ]
  },
  {
   "cell_type": "markdown",
   "id": "889349c1",
   "metadata": {
    "id": "889349c1"
   },
   "source": [
    "### `aisles` data frame"
   ]
  },
  {
   "cell_type": "code",
   "execution_count": null,
   "id": "9da89fb9-4679-40f5-ad0d-c34df753a3f8",
   "metadata": {
    "id": "9da89fb9-4679-40f5-ad0d-c34df753a3f8"
   },
   "outputs": [
    {
     "name": "stdout",
     "output_type": "stream",
     "text": [
      "0\n"
     ]
    }
   ],
   "source": [
    "print(data_aisles.duplicated().sum())"
   ]
  },
  {
   "cell_type": "code",
   "execution_count": null,
   "id": "da7c2822",
   "metadata": {
    "id": "da7c2822"
   },
   "outputs": [
    {
     "name": "stdout",
     "output_type": "stream",
     "text": [
      "0\n"
     ]
    }
   ],
   "source": [
    "print(data_aisles['aisle_id'].duplicated().sum())"
   ]
  },
  {
   "cell_type": "markdown",
   "id": "c3964e92",
   "metadata": {},
   "source": [
    "Comentario: Especificamente para seguir corrobando que la informacion con la que se hara el analisis es la correcta, para los pasillos tambien se realiza la verificacion de los datos duplicados."
   ]
  },
  {
   "cell_type": "markdown",
   "id": "274cd06a",
   "metadata": {
    "id": "274cd06a"
   },
   "source": [
    "### `order_products` data frame"
   ]
  },
  {
   "cell_type": "code",
   "execution_count": null,
   "id": "52326689-84a8-4b8f-a881-7c68780f62c9",
   "metadata": {
    "id": "52326689-84a8-4b8f-a881-7c68780f62c9"
   },
   "outputs": [
    {
     "name": "stdout",
     "output_type": "stream",
     "text": [
      "0\n"
     ]
    }
   ],
   "source": [
    "print(data_order_products.duplicated().sum())\n"
   ]
  },
  {
   "cell_type": "code",
   "execution_count": null,
   "id": "7b861391",
   "metadata": {
    "id": "7b861391"
   },
   "outputs": [
    {
     "name": "stdout",
     "output_type": "stream",
     "text": [
      "0\n"
     ]
    }
   ],
   "source": [
    "print(data_order_products.duplicated().sum())"
   ]
  },
  {
   "cell_type": "markdown",
   "id": "7e2a3dab",
   "metadata": {},
   "source": [
    "Comentario: No se encontraron duplicados de ningun tipo o que intervengan en el analisis de datos o modifiquen los resultados."
   ]
  },
  {
   "cell_type": "markdown",
   "id": "1e46de76",
   "metadata": {
    "id": "1e46de76"
   },
   "source": [
    "## Encuentrar y eliminar los valores ausentes\n",
    "\n",
    "Al trabajar con valores duplicados, pudimos observar que también nos falta investigar valores ausentes:\n"
   ]
  },
  {
   "cell_type": "markdown",
   "id": "c0aebd78",
   "metadata": {
    "id": "c0aebd78"
   },
   "source": [
    "### `products` data frame"
   ]
  },
  {
   "cell_type": "code",
   "execution_count": null,
   "id": "fe4a8b0f",
   "metadata": {
    "id": "fe4a8b0f"
   },
   "outputs": [
    {
     "name": "stdout",
     "output_type": "stream",
     "text": [
      "       product_id product_name  aisle_id  department_id\n",
      "37             38          NaN       100             21\n",
      "71             72          NaN       100             21\n",
      "109           110          NaN       100             21\n",
      "296           297          NaN       100             21\n",
      "416           417          NaN       100             21\n",
      "...           ...          ...       ...            ...\n",
      "49552       49553          NaN       100             21\n",
      "49574       49575          NaN       100             21\n",
      "49640       49641          NaN       100             21\n",
      "49663       49664          NaN       100             21\n",
      "49668       49669          NaN       100             21\n",
      "\n",
      "[1258 rows x 4 columns]\n"
     ]
    }
   ],
   "source": [
    "print(data_products[data_products['product_name'].isna()])"
   ]
  },
  {
   "cell_type": "markdown",
   "id": "-A6x1AbJhjkp",
   "metadata": {
    "id": "-A6x1AbJhjkp"
   },
   "source": [
    "Describe brevemente cuáles son tus hallazgos. hay valores ausente en la columna 'product_name'"
   ]
  },
  {
   "cell_type": "code",
   "execution_count": null,
   "id": "e96167bc",
   "metadata": {
    "id": "e96167bc"
   },
   "outputs": [
    {
     "name": "stdout",
     "output_type": "stream",
     "text": [
      "100    1258\n",
      "Name: aisle_id, dtype: int64\n"
     ]
    }
   ],
   "source": [
    "pasillo_incompleto=(data_products[data_products['product_name'].isna()])\n",
    "print(pasillo_incompleto['aisle_id'].value_counts())"
   ]
  },
  {
   "cell_type": "code",
   "execution_count": null,
   "id": "8fd0a541",
   "metadata": {
    "id": "8fd0a541"
   },
   "outputs": [
    {
     "name": "stdout",
     "output_type": "stream",
     "text": [
      "21    1258\n",
      "Name: department_id, dtype: int64\n"
     ]
    }
   ],
   "source": [
    "department_incomplet=(data_products[data_products['product_name'].isna()])\n",
    "print(department_incomplet['department_id'].value_counts()) "
   ]
  },
  {
   "cell_type": "markdown",
   "id": "qDpdYn1Fht_I",
   "metadata": {
    "id": "qDpdYn1Fht_I"
   },
   "source": [
    "Comentario: Los dataset fueron filtradospor los elementos ausentes y se pudo verificar que todos los datos ausentes corresponden al pasillo 100 y al departamento 21."
   ]
  },
  {
   "cell_type": "code",
   "execution_count": null,
   "id": "325c3464",
   "metadata": {
    "id": "325c3464"
   },
   "outputs": [
    {
     "name": "stdout",
     "output_type": "stream",
     "text": [
      "    department_id department\n",
      "20             21    missing\n",
      "    aisle_id    aisle\n",
      "99       100  missing\n"
     ]
    }
   ],
   "source": [
    "print(data_department[data_department['department_id']==21])\n",
    "print(data_aisles[data_aisles['aisle_id']==100])"
   ]
  },
  {
   "cell_type": "markdown",
   "id": "nqhSTUPhhvEJ",
   "metadata": {
    "id": "nqhSTUPhhvEJ"
   },
   "source": [
    "Describe brevemente cuáles son tus hallazgos. lo que se encontro es que los productos eb este pasillo y departamento estan relacionados a productos perdidos o faltantes."
   ]
  },
  {
   "cell_type": "code",
   "execution_count": null,
   "id": "6b295120",
   "metadata": {
    "id": "6b295120"
   },
   "outputs": [
    {
     "name": "stdout",
     "output_type": "stream",
     "text": [
      "Empty DataFrame\n",
      "Columns: [product_id, product_name, aisle_id, department_id]\n",
      "Index: []\n"
     ]
    }
   ],
   "source": [
    "data_products['product_name']= data_products['product_name'].fillna('Unknown')\n",
    "print(data_products[data_products['product_name'].isna()])"
   ]
  },
  {
   "cell_type": "markdown",
   "id": "7eb45c86",
   "metadata": {
    "id": "7eb45c86"
   },
   "source": [
    "### `orders` data frame"
   ]
  },
  {
   "cell_type": "code",
   "execution_count": null,
   "id": "93e41d96",
   "metadata": {
    "id": "93e41d96"
   },
   "outputs": [
    {
     "name": "stdout",
     "output_type": "stream",
     "text": [
      "        order_id  user_id  order_number  order_dow  order_hour_of_day  \\\n",
      "43969    1642849    59421             1          5                 15   \n",
      "306384   3078455   139649             1          3                 19   \n",
      "257290   1661328    78123             1          2                  9   \n",
      "152531   1910833   188510             1          3                 17   \n",
      "469703    658783     8073             1          1                 16   \n",
      "172838    606375    54218             1          1                 16   \n",
      "136615   2206232   101474             1          6                 14   \n",
      "428514    550487   177845             1          6                 14   \n",
      "417651   1782641    77325             1          4                 12   \n",
      "67969    1501928   180225             1          6                 12   \n",
      "455627   2902046   132847             1          6                 15   \n",
      "446678   1532047   110173             1          0                 12   \n",
      "\n",
      "        days_since_prior_order  \n",
      "43969                      NaN  \n",
      "306384                     NaN  \n",
      "257290                     NaN  \n",
      "152531                     NaN  \n",
      "469703                     NaN  \n",
      "172838                     NaN  \n",
      "136615                     NaN  \n",
      "428514                     NaN  \n",
      "417651                     NaN  \n",
      "67969                      NaN  \n",
      "455627                     NaN  \n",
      "446678                     NaN  \n"
     ]
    }
   ],
   "source": [
    "print(data_instacart[data_instacart['days_since_prior_order'].isna()].sample(12))"
   ]
  },
  {
   "cell_type": "code",
   "execution_count": null,
   "id": "166e5a86",
   "metadata": {
    "id": "166e5a86"
   },
   "outputs": [
    {
     "name": "stdout",
     "output_type": "stream",
     "text": [
      "1    28819\n",
      "Name: order_number, dtype: int64\n"
     ]
    }
   ],
   "source": [
    "pedido_ordenado=data_instacart[data_instacart['days_since_prior_order'].isna()]\n",
    "print(pedido_ordenado['order_number'].value_counts())"
   ]
  },
  {
   "cell_type": "markdown",
   "id": "79912b73",
   "metadata": {},
   "source": [
    "Se verifico que la columna days_since_prior_order  se encontraba con datos nulos a partir de la funcion isna y tambien se encontro que todos esos datos nulos pertenecian a la orden #1."
   ]
  },
  {
   "cell_type": "markdown",
   "id": "69dc9ca4",
   "metadata": {
    "id": "69dc9ca4"
   },
   "source": [
    "### `order_products` data frame"
   ]
  },
  {
   "cell_type": "code",
   "execution_count": null,
   "id": "b8240253",
   "metadata": {
    "id": "b8240253"
   },
   "outputs": [
    {
     "name": "stdout",
     "output_type": "stream",
     "text": [
      "         order_id  product_id  add_to_cart_order  reordered\n",
      "737       2449164        5068                NaN          0\n",
      "9926      1968313       43867                NaN          0\n",
      "14394     2926893       11688                NaN          0\n",
      "16418     1717990        4142                NaN          0\n",
      "30114     1959075       42828                NaN          1\n",
      "...           ...         ...                ...        ...\n",
      "4505662   1800005        7411                NaN          0\n",
      "4511400   1633337         260                NaN          0\n",
      "4517562    404157        9517                NaN          0\n",
      "4534112   1673227       17835                NaN          0\n",
      "4535739   1832957       17949                NaN          1\n",
      "\n",
      "[836 rows x 4 columns]\n"
     ]
    }
   ],
   "source": [
    "print(data_order_products[data_order_products['add_to_cart_order'].isna()])"
   ]
  },
  {
   "cell_type": "code",
   "execution_count": null,
   "id": "9a78e5ee",
   "metadata": {
    "id": "9a78e5ee"
   },
   "outputs": [
    {
     "name": "stdout",
     "output_type": "stream",
     "text": [
      "1.0 64.0\n"
     ]
    }
   ],
   "source": [
    "print(data_order_products['add_to_cart_order'].min(),data_order_products['add_to_cart_order'].max())\n",
    "    \n"
   ]
  },
  {
   "cell_type": "markdown",
   "id": "d8e83ec9",
   "metadata": {},
   "source": [
    "Comentario: Al filtrar la tabla por la columna add_to_cart_order que corresponde al orden en el que se agrego al producto al carrito, se evidencio que se tenian valores ausentes, ademas el valor maximo es de 64 y el valor minimo de 1."
   ]
  },
  {
   "cell_type": "code",
   "execution_count": null,
   "id": "ab9d0c2b",
   "metadata": {
    "id": "ab9d0c2b"
   },
   "outputs": [
    {
     "name": "stdout",
     "output_type": "stream",
     "text": [
      "         order_id  product_id  add_to_cart_order  reordered\n",
      "737       2449164        5068                NaN          0\n",
      "9926      1968313       43867                NaN          0\n",
      "14394     2926893       11688                NaN          0\n",
      "16418     1717990        4142                NaN          0\n",
      "30114     1959075       42828                NaN          1\n",
      "...           ...         ...                ...        ...\n",
      "4505662   1800005        7411                NaN          0\n",
      "4511400   1633337         260                NaN          0\n",
      "4517562    404157        9517                NaN          0\n",
      "4534112   1673227       17835                NaN          0\n",
      "4535739   1832957       17949                NaN          1\n",
      "\n",
      "[836 rows x 4 columns]\n"
     ]
    }
   ],
   "source": [
    "print(data_order_products[data_order_products['add_to_cart_order'].isna()])\n",
    "\n"
   ]
  },
  {
   "cell_type": "code",
   "execution_count": null,
   "id": "54c31695",
   "metadata": {
    "id": "54c31695"
   },
   "outputs": [
    {
     "name": "stdout",
     "output_type": "stream",
     "text": [
      "1\n"
     ]
    }
   ],
   "source": [
    "filtrado_ausentes=(data_order_products[data_order_products['add_to_cart_order'].isna()])\n",
    "filtrado_pedido=(filtrado_ausentes.groupby('order_id'))                \n",
    "print(filtrado_pedido['product_id'].count().min())\n",
    "\n",
    "\n"
   ]
  },
  {
   "cell_type": "markdown",
   "id": "p9V6pddtjglj",
   "metadata": {
    "id": "p9V6pddtjglj"
   },
   "source": [
    "Describe brevemente cuáles son tus hallazgos."
   ]
  },
  {
   "cell_type": "markdown",
   "id": "fa169ff6",
   "metadata": {},
   "source": [
    "Comentario: Despues del analisis de los datos se evidencia que no todos los pedidos con valores ausentes tienen mas de 64productos, y al consolidar los valores ausentes por su IDde pedido se evidencia que el valor minimo del conteo es 1."
   ]
  },
  {
   "cell_type": "code",
   "execution_count": null,
   "id": "4567a173",
   "metadata": {
    "id": "7a987d08"
   },
   "outputs": [
    {
     "name": "stdout",
     "output_type": "stream",
     "text": [
      "0          17\n",
      "1           1\n",
      "2           1\n",
      "3          35\n",
      "4           5\n",
      "           ..\n",
      "4545002    12\n",
      "4545003     9\n",
      "4545004     4\n",
      "4545005     8\n",
      "4545006     9\n",
      "Name: add_to_cart_order, Length: 4545007, dtype: int64\n"
     ]
    }
   ],
   "source": [
    "data_order_products['add_to_cart_order']= data_order_products['add_to_cart_order'].fillna(999)\n",
    "print(data_order_products['add_to_cart_order'].astype('int'))"
   ]
  },
  {
   "cell_type": "markdown",
   "id": "1ec89b6f",
   "metadata": {},
   "source": [
    "Comentario: Se procedio a reemplazar la columna add_to_cart_order que contenia datos ausentes por 999, y se convirtieron los datos de esta columna a un numero entero."
   ]
  },
  {
   "cell_type": "markdown",
   "id": "RnplPFY1gSrb",
   "metadata": {
    "id": "RnplPFY1gSrb"
   },
   "source": [
    "## Conclusiones\n",
    "\n",
    "Conclusiones intermedias : hemos realizado la limpieza de datos para proceder analizar los datos \n"
   ]
  },
  {
   "cell_type": "markdown",
   "id": "e0f4498e",
   "metadata": {},
   "source": [
    "Conclusiones:\n",
    "    Con el fin de realizar un analisis adecuado y correcto que arrojara resultados veridicos se procedio a organizar los datos, eliminar duplicados, convertir datos a numeros enteros garantizando que cuando se analice esta data la informacion este depurada y realmente muestre la tendencia que se esta siguiendo en la operacion."
   ]
  },
  {
   "cell_type": "markdown",
   "id": "UjrOIwTcz3ri",
   "metadata": {
    "id": "UjrOIwTcz3ri"
   },
   "source": [
    "# Paso 3. Análisis de los datos\n",
    "\n",
    "Una vez los datos estén procesados y listos"
   ]
  },
  {
   "cell_type": "markdown",
   "id": "turkish-kidney",
   "metadata": {
    "id": "turkish-kidney"
   },
   "source": [
    "\n",
    "\n",
    "1. Verifica que los valores en las columnas `'order_hour_of_day'` y `'order_dow'` en la tabla orders sean razonables (es decir, `'order_hour_of_day'` oscile entre 0 y 23 y `'order_dow'` oscile entre 0 y 6).\n",
    "2. Crea un gráfico que muestre el número de personas que hacen pedidos dependiendo de la hora del día.\n",
    "3. Crea un gráfico que muestre qué día de la semana la gente hace sus compras.\n",
    "4. Crea un gráfico que muestre el tiempo que la gente espera hasta hacer su siguiente pedido, y comenta sobre los valores mínimos y máximos."
   ]
  },
  {
   "cell_type": "markdown",
   "id": "short-capability",
   "metadata": {
    "id": "short-capability"
   },
   "source": [
    "###  Verifica que los valores sean sensibles"
   ]
  },
  {
   "cell_type": "code",
   "execution_count": null,
   "id": "growing-fruit",
   "metadata": {
    "id": "growing-fruit"
   },
   "outputs": [
    {
     "name": "stdout",
     "output_type": "stream",
     "text": [
      "0 6\n"
     ]
    }
   ],
   "source": [
    "print(data_instacart['order_dow'].min(),data_instacart['order_dow'].max())\n"
   ]
  },
  {
   "cell_type": "code",
   "execution_count": null,
   "id": "accessory-malaysia",
   "metadata": {
    "id": "accessory-malaysia"
   },
   "outputs": [
    {
     "name": "stdout",
     "output_type": "stream",
     "text": [
      "0 23\n"
     ]
    }
   ],
   "source": [
    "print(data_instacart['order_hour_of_day'].min(),data_instacart['order_hour_of_day'].max())"
   ]
  },
  {
   "cell_type": "markdown",
   "id": "f3c8d1fd",
   "metadata": {},
   "source": [
    "Comentario: A traves de las Funciones minimo y maximo se valido que los datos tuvieran las caracteristicas correctas sin exceder los dias y horas"
   ]
  },
  {
   "cell_type": "markdown",
   "id": "a6743a70",
   "metadata": {
    "id": "a6743a70"
   },
   "source": [
    "###  Para cada hora del día, ¿cuántas personas hacen órdenes?"
   ]
  },
  {
   "cell_type": "code",
   "execution_count": null,
   "id": "a36cca27",
   "metadata": {
    "id": "a36cca27"
   },
   "outputs": [
    {
     "data": {
      "image/png": "[encoded data removed]",
      "text/plain": [
       "<Figure size 432x288 with 1 Axes>"
      ]
     },
     "metadata": {
      "needs_background": "light"
     },
     "output_type": "display_data"
    }
   ],
   "source": [
    "order_person=data_instacart.groupby('order_hour_of_day')['user_id'].count()\n",
    "order_person.plot(x='order_hour_of_day', y='user_id',style='o-',title='Order/Hour',color='red',xlabel=\"Hour\",ylabel=\"Order\",xlim=[1, 25],ylim=[1,45000]) # escribe tu código aquí\n",
    "plt.show()"
   ]
  },
  {
   "cell_type": "markdown",
   "id": "11270eed",
   "metadata": {
    "id": "11270eed"
   },
   "source": [
    "Escribe aquí tus conclusiones Podemos ver que entra las 8 y la 10 las personas hacen la mayor cantidad de ordenes."
   ]
  },
  {
   "cell_type": "markdown",
   "id": "documented-command",
   "metadata": {
    "id": "documented-command"
   },
   "source": [
    "### ¿Qué día de la semana compran víveres las personas?"
   ]
  },
  {
   "cell_type": "code",
   "execution_count": null,
   "id": "chief-digit",
   "metadata": {
    "id": "chief-digit"
   },
   "outputs": [
    {
     "data": {
      "image/png": "[encoded data removed]",
      "text/plain": [
       "<Figure size 432x288 with 1 Axes>"
      ]
     },
     "metadata": {
      "needs_background": "light"
     },
     "output_type": "display_data"
    }
   ],
   "source": [
    "order_day=data_instacart.groupby('order_dow')['user_id'].count()\n",
    "order_day.plot(x='order_dow', y='user_id',style='o-',title='Order/Day',color='red',xlabel=\"Day\",ylabel=\"Order\",xlim=[0, 6],ylim=[50000,90000])\n",
    "plt.show()"
   ]
  },
  {
   "cell_type": "markdown",
   "id": "cutting-concert",
   "metadata": {
    "id": "cutting-concert"
   },
   "source": [
    "### [A4] ¿Cuánto tiempo esperan las personas hasta hacer otro pedido? Comenta sobre los valores mínimos y máximos."
   ]
  },
  {
   "cell_type": "code",
   "execution_count": null,
   "id": "c231f523",
   "metadata": {
    "id": "c231f523"
   },
   "outputs": [
    {
     "data": {
      "image/png": "[encoded data removed]",
      "text/plain": [
       "<Figure size 432x288 with 1 Axes>"
      ]
     },
     "metadata": {
      "needs_background": "light"
     },
     "output_type": "display_data"
    }
   ],
   "source": [
    "order_wait=data_instacart.groupby('days_since_prior_order')['user_id'].count()\n",
    "order_wait.plot(x='days_since_prior_order', y='user_id',style='o-',title='Order/next order',color='red',xlabel=\"Day Next Order\",ylabel=\"Order\",xlim=[0, 35],ylim=[2000,52000])\n",
    "plt.show()\n"
   ]
  },
  {
   "cell_type": "markdown",
   "id": "discrete-vertex",
   "metadata": {
    "id": "discrete-vertex"
   },
   "source": [
    "Conclusiones: en el mayor de los casos la gente espera 30 dias para hacer su proximo pedido"
   ]
  },
  {
   "cell_type": "markdown",
   "id": "tight-staff",
   "metadata": {
    "id": "tight-staff"
   },
   "source": [
    "# [B] Intermedio \n",
    "\n"
   ]
  },
  {
   "cell_type": "markdown",
   "id": "packed-classic",
   "metadata": {
    "id": "packed-classic"
   },
   "source": [
    "###  Diferencia entre miércoles y sábados para  `'order_hour_of_day'`. "
   ]
  },
  {
   "cell_type": "code",
   "execution_count": null,
   "id": "d89b8403",
   "metadata": {
    "id": "d89b8403"
   },
   "outputs": [
    {
     "data": {
      "image/png": "[encoded data removed]",
      "text/plain": [
       "<Figure size 720x576 with 1 Axes>"
      ]
     },
     "metadata": {
      "needs_background": "light"
     },
     "output_type": "display_data"
    }
   ],
   "source": [
    "\n",
    "order_descripcion=data_instacart.query('order_dow==3 or order_dow==6')\n",
    "\n",
    "new_order_descripcion =order_descripcion.groupby(['order_hour_of_day','order_dow'])['order_hour_of_day'].count()\n",
    "new_order_descripcion.plot(kind='bar',figsize=[10,8],xlabel=['Miercoles,Sabado'],title='Order/Day',color=['blue','red'],ylabel=\"Order\")\n",
    "\n",
    "\n",
    "plt.show()\n"
   ]
  },
  {
   "cell_type": "markdown",
   "id": "90e746c3",
   "metadata": {
    "id": "94e54e8a"
   },
   "source": [
    "El dia sabado se realizan mas ordenes que el dia Miercoles"
   ]
  },
  {
   "cell_type": "markdown",
   "id": "1cb70c96",
   "metadata": {},
   "source": [
    "La tendencia para los dias miercoles y sabado teniendo en cuenta la hora del dia tiene un comportamiento similar, sin embargo los dias sabados se presentan compras mas altas, y el pico de hora mas alto para los miercoles son las 15 y para los sabados las 14."
   ]
  },
  {
   "cell_type": "markdown",
   "id": "e3891143",
   "metadata": {
    "id": "e3891143"
   },
   "source": [
    "###  ¿Cuál es la distribución para el número de pedidos por cliente?"
   ]
  },
  {
   "cell_type": "code",
   "execution_count": null,
   "id": "d8c26c23",
   "metadata": {
    "id": "d8c26c23"
   },
   "outputs": [
    {
     "data": {
      "image/png": "[encoded data removed]",
      "text/plain": [
       "<Figure size 432x288 with 1 Axes>"
      ]
     },
     "metadata": {
      "needs_background": "light"
     },
     "output_type": "display_data"
    }
   ],
   "source": [
    "\n",
    "distribution_data=data_instacart.groupby('order_number')\n",
    "order_distr={'order_id':'count'}\n",
    "new_distribution_data=distribution_data.agg(order_distr)\n",
    "new_distribution_data.hist(bins=5)\n",
    "\n",
    "plt.show()\n"
   ]
  },
  {
   "cell_type": "markdown",
   "id": "1c3d1be7",
   "metadata": {
    "id": "00e69a66"
   },
   "source": [
    "la mayor concentracion se encuenta en los clientes que solicitaron 5000 ordenes"
   ]
  },
  {
   "cell_type": "markdown",
   "id": "54a0319c",
   "metadata": {
    "id": "54a0319c"
   },
   "source": [
    "### ¿Cuáles son los 20 productos más populares ?"
   ]
  },
  {
   "cell_type": "code",
   "execution_count": null,
   "id": "exterior-arizona",
   "metadata": {
    "id": "exterior-arizona",
    "scrolled": true
   },
   "outputs": [
    {
     "name": "stdout",
     "output_type": "stream",
     "text": [
      "product_id  product_name            \n",
      "24852       BANANA                      66050\n",
      "13176       BAG OF ORGANIC BANANAS      53297\n",
      "21137       ORGANIC STRAWBERRIES        37039\n",
      "21903       ORGANIC BABY SPINACH        33971\n",
      "47209       ORGANIC HASS AVOCADO        29773\n",
      "47766       ORGANIC AVOCADO             24689\n",
      "47626       LARGE LEMON                 21495\n",
      "16797       STRAWBERRIES                20018\n",
      "26209       LIMES                       19690\n",
      "27845       ORGANIC WHOLE MILK          19600\n",
      "27966       ORGANIC RASPBERRIES         19197\n",
      "22935       ORGANIC YELLOW ONION        15898\n",
      "24964       ORGANIC GARLIC              15292\n",
      "45007       ORGANIC ZUCCHINI            14584\n",
      "39275       ORGANIC BLUEBERRIES         13879\n",
      "49683       CUCUMBER KIRBY              13675\n",
      "28204       ORGANIC FUJI APPLE          12544\n",
      "5876        ORGANIC LEMON               12232\n",
      "8277        APPLE HONEYCRISP ORGANIC    11993\n",
      "40706       ORGANIC GRAPE TOMATOES      11781\n",
      "Name: order_id, dtype: int64\n"
     ]
    }
   ],
   "source": [
    "new_data_merge=data_products.merge(data_order_products,\n",
    "                               on='product_id')\n",
    "new_data_merge['product_name']=new_data_merge['product_name'].str.upper()\n",
    "products_popular=new_data_merge.groupby(['product_id','product_name'])['order_id'].count()\n",
    "\n",
    "\n",
    "print(products_popular.sort_values(ascending=False).head(20))\n"
   ]
  },
  {
   "cell_type": "markdown",
   "id": "romantic-deposit",
   "metadata": {
    "id": "romantic-deposit"
   },
   "source": [
    "### ¿Cuántos artículos compran normalmente las personas en un pedido? ¿Cómo es la distribución?"
   ]
  },
  {
   "cell_type": "code",
   "execution_count": null,
   "id": "virtual-punch",
   "metadata": {
    "id": "virtual-punch"
   },
   "outputs": [
    {
     "data": {
      "image/png": "[encoded data removed]",
      "text/plain": [
       "<Figure size 432x288 with 1 Axes>"
      ]
     },
     "metadata": {
      "needs_background": "light"
     },
     "output_type": "display_data"
    }
   ],
   "source": [
    "buy_data_merge=data_instacart.merge(data_order_products,\n",
    "                              on='order_id')\n",
    "buy_order_data=buy_data_merge.groupby('order_id')\n",
    "new_buy_order_distr={'product_id':'count'}\n",
    "new_buy_data=buy_order_data.agg(new_buy_order_distr)\n",
    "new_buy_data.hist(bins=5)\n",
    "plt.show()\n",
    "\n"
   ]
  },
  {
   "cell_type": "markdown",
   "id": "designed-mortality",
   "metadata": {
    "id": "designed-mortality"
   },
   "source": [
    "Comentario: Regularmente las personas compran 25 articulos por orden, esto analizando las 420.000 ordenes aproximadamente."
   ]
  },
  {
   "cell_type": "markdown",
   "id": "5e6b5537",
   "metadata": {
    "id": "5e6b5537"
   },
   "source": [
    "### ¿Cuáles son los 20 principales artículos que vuelven a pedirse con mayor frecuencia "
   ]
  },
  {
   "cell_type": "code",
   "execution_count": null,
   "id": "9374e55a",
   "metadata": {
    "id": "9374e55a"
   },
   "outputs": [
    {
     "name": "stdout",
     "output_type": "stream",
     "text": [
      "                                     reordered\n",
      "product_id product_name                       \n",
      "24852      BANANA                        55763\n",
      "13176      BAG OF ORGANIC BANANAS        44450\n",
      "21137      ORGANIC STRAWBERRIES          28639\n",
      "21903      ORGANIC BABY SPINACH          26233\n",
      "47209      ORGANIC HASS AVOCADO          23629\n",
      "47766      ORGANIC AVOCADO               18743\n",
      "27845      ORGANIC WHOLE MILK            16251\n",
      "47626      LARGE LEMON                   15044\n",
      "27966      ORGANIC RASPBERRIES           14748\n",
      "16797      STRAWBERRIES                  13945\n",
      "26209      LIMES                         13327\n",
      "22935      ORGANIC YELLOW ONION          11145\n",
      "24964      ORGANIC GARLIC                10411\n",
      "45007      ORGANIC ZUCCHINI              10076\n",
      "49683      CUCUMBER KIRBY                 9538\n",
      "28204      ORGANIC FUJI APPLE             8989\n",
      "8277       APPLE HONEYCRISP ORGANIC       8836\n",
      "39275      ORGANIC BLUEBERRIES            8799\n",
      "5876       ORGANIC LEMON                  8412\n",
      "49235      ORGANIC HALF & HALF            8389\n"
     ]
    }
   ],
   "source": [
    "articles_new_data_merge=data_products.merge(data_order_products,\n",
    "                               on='product_id')\n",
    "\n",
    "articles_new_data_merge['product_name']=articles_new_data_merge['product_name'].str.upper()\n",
    "new_articles_data=articles_new_data_merge.query('reordered==1')\n",
    "filter_new_articles=new_articles_data.groupby(['product_id','product_name'])\n",
    "agg_filter={'reordered':'sum'}\n",
    "base_filter_articles=filter_new_articles.agg(agg_filter)\n",
    "\n",
    "print(base_filter_articles.sort_values(by='reordered',ascending=False).head(20))"
   ]
  },
  {
   "cell_type": "markdown",
   "id": "9d312b14",
   "metadata": {
    "id": "9d312b14"
   },
   "source": [
    "### Para cada producto, ¿cuál es la proporción de las veces que se pide y que se vuelve a pedir?"
   ]
  },
  {
   "cell_type": "code",
   "execution_count": null,
   "id": "8ae9f4b1",
   "metadata": {
    "id": "8ae9f4b1"
   },
   "outputs": [
    {
     "name": "stdout",
     "output_type": "stream",
     "text": [
      "product_id  product_name                                                     \n",
      "1           CHOCOLATE SANDWICH COOKIES                                           56.428571\n",
      "2           ALL-SEASONS SALT                                                      0.000000\n",
      "3           ROBUST GOLDEN UNSWEETENED OOLONG TEA                                 73.809524\n",
      "4           SMART ONES CLASSIC FAVORITES MINI RIGATONI WITH VODKA CREAM SAUCE    51.020408\n",
      "7           PURE COCONUT WATER WITH ORANGE                                       50.000000\n",
      "                                                                                   ...    \n",
      "49690       HIGH PERFORMANCE ENERGY DRINK                                        80.000000\n",
      "49691       ORIGINAL PANCAKE & WAFFLE MIX                                        43.055556\n",
      "49692       ORGANIC INSTANT OATMEAL LIGHT MAPLE BROWN SUGAR                      41.666667\n",
      "49693       SPRING WATER BODY WASH                                               44.000000\n",
      "49694       BURRITO- STEAK & CHEESE                                              33.333333\n",
      "Name: proportion, Length: 45573, dtype: float64\n"
     ]
    }
   ],
   "source": [
    "articles_new_data_merge=data_products.merge(data_order_products,\n",
    "                               on='product_id')\n",
    "\n",
    "articles_new_data_merge['product_name']=articles_new_data_merge['product_name'].str.upper()\n",
    "filter_new_articles=articles_new_data_merge.groupby(['product_id','product_name'])\n",
    "agg_filter={'order_id':'count','reordered':'sum'}\n",
    "base_filter_articles=filter_new_articles.agg(agg_filter)\n",
    "base_filter_articles['proportion']=((base_filter_articles['reordered'])/(base_filter_articles['order_id'])*100)\n",
    "new_filter_articles=base_filter_articles.groupby(['product_id','product_name'])['proportion']\n",
    "\n",
    "print(new_filter_articles.head(4))"
   ]
  },
  {
   "cell_type": "markdown",
   "id": "subject-boxing",
   "metadata": {
    "id": "subject-boxing"
   },
   "source": [
    "### [C4] Para cada cliente, ¿qué proporción de sus productos ya los había pedido?"
   ]
  },
  {
   "cell_type": "code",
   "execution_count": null,
   "id": "medical-couple",
   "metadata": {
    "id": "medical-couple",
    "scrolled": true
   },
   "outputs": [
    {
     "name": "stdout",
     "output_type": "stream",
     "text": [
      "user_id\n",
      "2       3.846154\n",
      "4            NaN\n",
      "5      66.666667\n",
      "6            NaN\n",
      "7      92.857143\n",
      "11     20.000000\n",
      "12     25.000000\n",
      "13     56.521739\n",
      "14     36.065574\n",
      "15     53.846154\n",
      "16     53.125000\n",
      "17     71.698113\n",
      "19     29.166667\n",
      "20           NaN\n",
      "21     40.000000\n",
      "22    100.000000\n",
      "24     50.000000\n",
      "26     43.750000\n",
      "27     65.882353\n",
      "28     50.000000\n",
      "29     84.615385\n",
      "30           NaN\n",
      "31     30.434783\n",
      "33     47.058824\n",
      "34           NaN\n",
      "dtype: float64\n"
     ]
    }
   ],
   "source": [
    "client_new_data_merge=data_instacart.merge(data_order_products,\n",
    "                               on='order_id')\n",
    "total_order_client=client_new_data_merge.groupby('user_id')['order_id'].count()\n",
    "new_base_clients=client_new_data_merge.query('reordered>=1')\n",
    "new_agg_clients=new_base_clients.groupby('user_id')['reordered'].sum()\n",
    "total_reorder=((new_agg_clients/total_order_client)*100)\n",
    "\n",
    "\n",
    "print(total_reorder.head(25))\n"
   ]
  },
  {
   "cell_type": "markdown",
   "id": "92d35137",
   "metadata": {
    "id": "92d35137"
   },
   "source": [
    "### ¿Cuáles son los 20 principales artículos que las personas ponen primero en sus carritos?"
   ]
  },
  {
   "cell_type": "code",
   "execution_count": null,
   "id": "d4676805",
   "metadata": {
    "id": "0ae57274"
   },
   "outputs": [
    {
     "name": "stdout",
     "output_type": "stream",
     "text": [
      "product_name\n",
      "BANANA                         15563.0\n",
      "BAG OF ORGANIC BANANAS         11026.0\n",
      "ORGANIC WHOLE MILK              4363.0\n",
      "ORGANIC STRAWBERRIES            3946.0\n",
      "ORGANIC HASS AVOCADO            3390.0\n",
      "ORGANIC BABY SPINACH            3336.0\n",
      "ORGANIC AVOCADO                 3044.0\n",
      "SPRING WATER                    2336.0\n",
      "STRAWBERRIES                    2308.0\n",
      "ORGANIC RASPBERRIES             2024.0\n",
      "SPARKLING WATER GRAPEFRUIT      1914.0\n",
      "ORGANIC HALF & HALF             1797.0\n",
      "LARGE LEMON                     1737.0\n",
      "SODA                            1733.0\n",
      "ORGANIC REDUCED FAT MILK        1397.0\n",
      "LIMES                           1370.0\n",
      "HASS AVOCADOS                   1340.0\n",
      "ORGANIC REDUCED FAT 2% MILK     1310.0\n",
      "HALF & HALF                     1309.0\n",
      "ORGANIC YELLOW ONION            1246.0\n",
      "Name: add_to_cart_order, dtype: float64\n"
     ]
    }
   ],
   "source": [
    "client_new_data_merge=data_instacart.merge(data_order_products,\n",
    "                               on='order_id')\n",
    "new_orders=client_new_data_merge.merge(data_products,\n",
    "                                      on='product_id')\n",
    "\n",
    "new_orders['product_name']=new_orders['product_name'].str.upper()\n",
    "client_car=new_orders.query('add_to_cart_order ==1')\n",
    "pedido_ordenado=client_car.groupby(['product_name'])['add_to_cart_order'].sum()\n",
    "\n",
    "new_order_produ=pedido_ordenado.sort_values(ascending=False)\n",
    "print(new_order_produ.head(20))\n",
    "\n",
    "\n"
   ]
  },
  {
   "cell_type": "markdown",
   "id": "uITbFCEoDosC",
   "metadata": {
    "id": "uITbFCEoDosC"
   },
   "source": [
    "### Conclusion general del proyecto:"
   ]
  },
  {
   "cell_type": "markdown",
   "id": "8e80472b",
   "metadata": {},
   "source": [
    "Conclusiones: En este proyecto analizamos las preferencias de compra de los clientes en un supermercado en el cual se evidencian cuales eran las tendecias de compra, cuantos productos compraban, con que frecuencia, en que momento del dia y de la semana, haciendo posible que hayan hallazgos acerca de los comportamientos de clientes, y esto nos podria llevar a tomar conclusiones acerca de la rotacion de los productos y la demanda."
   ]
  }
 ],
 "metadata": {
  "colab": {
   "provenance": []
  },
  "kernelspec": {
   "display_name": "Python 3 (ipykernel)",
   "language": "python",
   "name": "python3"
  },
  "language_info": {
   "codemirror_mode": {
    "name": "ipython",
    "version": 3
   },
   "file_extension": ".py",
   "mimetype": "text/x-python",
   "name": "python",
   "nbconvert_exporter": "python",
   "pygments_lexer": "ipython3",
   "version": "3.9.19"
  },
  "toc": {
   "base_numbering": 1,
   "nav_menu": {},
   "number_sections": true,
   "sideBar": true,
   "skip_h1_title": true,
   "title_cell": "Table of Contents",
   "title_sidebar": "Contents",
   "toc_cell": false,
   "toc_position": {},
   "toc_section_display": true,
   "toc_window_display": false
  },
  "vscode": {
   "interpreter": {
    "hash": "01a7be9ec63e704a62cefc5fe7a4756944464ee731be31632bdf42a4cb4688cf"
   }
  }
 },
 "nbformat": 4,
 "nbformat_minor": 5
}
